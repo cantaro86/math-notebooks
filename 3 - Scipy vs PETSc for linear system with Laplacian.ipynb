{
 "cells": [
  {
   "cell_type": "markdown",
   "id": "0251cd68-0fea-410c-b63c-fee26cadc6bc",
   "metadata": {},
   "source": [
    "# Scipy vs PETSc for a linear system with a graph Laplacian matrix\n",
    "\n",
    "- Laplacian matrix construction\n",
    "- Solving the linear system\n",
    "- Pseudo-inverse scipy pinv solution\n",
    "- Regularized solution\n",
    "- PETSc vector\n",
    "- PETSc matrix\n",
    "- Solving the linear system with PETSc\n",
    "- Solving the system but faster:\n",
    "  - LU decomposition with PETSc\n",
    "  - LGMRES and kernel info"
   ]
  },
  {
   "cell_type": "code",
   "execution_count": 1,
   "id": "814ba533",
   "metadata": {},
   "outputs": [],
   "source": [
    "import numpy as np\n",
    "import matplotlib.pyplot as plt\n",
    "from scipy import linalg as scipy_linalg\n",
    "from scipy.sparse import linalg as sparse_linalg\n",
    "import networkx as nx\n",
    "\n",
    "import warnings\n",
    "\n",
    "warnings.simplefilter(action=\"ignore\", category=FutureWarning)\n",
    "\n",
    "from IPython.display import display\n",
    "import sympy\n",
    "\n",
    "sympy.init_printing()\n",
    "\n",
    "\n",
    "def pprint(m):\n",
    "    display(sympy.Matrix(m))"
   ]
  },
  {
   "cell_type": "code",
   "execution_count": 2,
   "id": "27af0c60",
   "metadata": {},
   "outputs": [],
   "source": [
    "import petsc4py\n",
    "\n",
    "petsc4py.init()\n",
    "from petsc4py import PETSc\n",
    "\n",
    "from scipy.sparse import csr_matrix, coo_matrix"
   ]
  },
  {
   "cell_type": "code",
   "execution_count": 3,
   "id": "40437315",
   "metadata": {},
   "outputs": [
    {
     "data": {
      "text/plain": [
       "{'PETSC_DIR': '/opt/anaconda3/envs/HPC_open', 'PETSC_ARCH': ''}"
      ]
     },
     "execution_count": 3,
     "metadata": {},
     "output_type": "execute_result"
    }
   ],
   "source": [
    "petsc4py.get_config()"
   ]
  },
  {
   "cell_type": "code",
   "execution_count": 4,
   "id": "a237a23d",
   "metadata": {},
   "outputs": [
    {
     "data": {
      "text/plain": [
       "'/opt/anaconda3/envs/HPC_open/lib/python3.11/site-packages/petsc4py/include'"
      ]
     },
     "execution_count": 4,
     "metadata": {},
     "output_type": "execute_result"
    }
   ],
   "source": [
    "petsc4py.get_include()"
   ]
  },
  {
   "cell_type": "markdown",
   "id": "140e113f",
   "metadata": {},
   "source": [
    "## Let's define a graph\n",
    "\n",
    "We can work with the Laplacian matrix associated to this undirected graph."
   ]
  },
  {
   "cell_type": "code",
   "execution_count": 5,
   "id": "660366a2",
   "metadata": {},
   "outputs": [],
   "source": [
    "gr = {\"start_node\": [0, 1, 2, 3, 4, 3, 2], \"end_node\": [1, 2, 3, 4, 1, 5, 6]}\n",
    "positions = {0: [0, 0], 1: [1, 0], 2: [2, 0], 3: [2, 1], 4: [1, 1], 5: [3, 1], 6: [3, 0]}\n",
    "nx_graph = nx.Graph()"
   ]
  },
  {
   "cell_type": "code",
   "execution_count": 6,
   "id": "2f2e12ff",
   "metadata": {},
   "outputs": [],
   "source": [
    "for i in zip(gr[\"start_node\"], gr[\"end_node\"]):\n",
    "    nx_graph.add_edge(*i)"
   ]
  },
  {
   "cell_type": "code",
   "execution_count": 7,
   "id": "2229b317",
   "metadata": {},
   "outputs": [
    {
     "name": "stdout",
     "output_type": "stream",
     "text": [
      "Nodes  [0, 1, 2, 3, 4, 5, 6]\n",
      "Edges  [(0, 1), (1, 2), (1, 4), (2, 3), (2, 6), (3, 4), (3, 5)]\n"
     ]
    },
    {
     "data": {
      "image/png": "[encoded data removed]",
      "text/plain": [
       "<Figure size 500x300 with 1 Axes>"
      ]
     },
     "metadata": {},
     "output_type": "display_data"
    }
   ],
   "source": [
    "labels = dict(zip(nx_graph.edges, range(len(nx_graph.edges))))\n",
    "print(\"Nodes \", nx_graph.nodes)\n",
    "print(\"Edges \", nx_graph.edges)\n",
    "\n",
    "plt.rcParams[\"figure.figsize\"] = [5, 3]\n",
    "nx.draw(nx_graph, with_labels=True, pos=positions, node_size=800, alpha=0.9)\n",
    "nx.draw_networkx_edge_labels(nx_graph, pos=positions, edge_labels=labels, font_color=\"red\")\n",
    "plt.show()"
   ]
  },
  {
   "cell_type": "code",
   "execution_count": 8,
   "id": "30c7fbfb",
   "metadata": {},
   "outputs": [
    {
     "data": {
      "image/png": "[encoded data removed]",
      "text/latex": [
       "$\\displaystyle \\left[\\begin{matrix}1 & -1 & 0 & 0 & 0 & 0 & 0\\\\-1 & 3 & -1 & 0 & -1 & 0 & 0\\\\0 & -1 & 3 & -1 & 0 & 0 & -1\\\\0 & 0 & -1 & 3 & -1 & -1 & 0\\\\0 & -1 & 0 & -1 & 2 & 0 & 0\\\\0 & 0 & 0 & -1 & 0 & 1 & 0\\\\0 & 0 & -1 & 0 & 0 & 0 & 1\\end{matrix}\\right]$"
      ],
      "text/plain": [
       "⎡1   -1  0   0   0   0   0 ⎤\n",
       "⎢                          ⎥\n",
       "⎢-1  3   -1  0   -1  0   0 ⎥\n",
       "⎢                          ⎥\n",
       "⎢0   -1  3   -1  0   0   -1⎥\n",
       "⎢                          ⎥\n",
       "⎢0   0   -1  3   -1  -1  0 ⎥\n",
       "⎢                          ⎥\n",
       "⎢0   -1  0   -1  2   0   0 ⎥\n",
       "⎢                          ⎥\n",
       "⎢0   0   0   -1  0   1   0 ⎥\n",
       "⎢                          ⎥\n",
       "⎣0   0   -1  0   0   0   1 ⎦"
      ]
     },
     "metadata": {},
     "output_type": "display_data"
    }
   ],
   "source": [
    "L = nx.laplacian_matrix(nx_graph.to_undirected()).toarray()\n",
    "pprint(L)"
   ]
  },
  {
   "cell_type": "markdown",
   "id": "52ee12ab",
   "metadata": {},
   "source": [
    "### Solving the linear system (computation of pressure) \n",
    "\n",
    "\n",
    "The unkonw in this example is the pressure $p$: \n",
    "\n",
    "$$ L \\, p = Q_b $$\n",
    "\n",
    "with $Q_b$ the right hand side, representing for example the flow on the boundary nodes (boundary conditions).   \n",
    "The solution of the above equation is up to a constant. It means that for any $k \\in \\mathbb{R}$, $p+k$ is a solution.\n",
    "\n",
    "Let us define the boundary conditions i.e. the vector $\\mathbf Q_b$"
   ]
  },
  {
   "cell_type": "code",
   "execution_count": 9,
   "id": "79a64e0b",
   "metadata": {},
   "outputs": [
    {
     "name": "stdout",
     "output_type": "stream",
     "text": [
      "Boundary nodes with degree 1:  [0, 5, 6]\n",
      "Flow on the boundary nodes:  [ 1.   0.   0.   0.   0.  -0.5 -0.5]\n"
     ]
    }
   ],
   "source": [
    "boundary_flows = np.zeros(nx_graph.number_of_nodes())\n",
    "boundary_flows[0] = 1\n",
    "boundary_flows[5] = -0.5\n",
    "boundary_flows[6] = -0.5\n",
    "boundary_nodes = [elem[0] for elem in nx_graph.degree if elem[1] == 1]\n",
    "print(\"Boundary nodes with degree 1: \", boundary_nodes)\n",
    "print(\"Flow on the boundary nodes: \", boundary_flows)"
   ]
  },
  {
   "cell_type": "markdown",
   "id": "6e1e5fe4",
   "metadata": {},
   "source": [
    "## Pseudo-inverse scipy pinv solution"
   ]
  },
  {
   "cell_type": "code",
   "execution_count": 10,
   "id": "e3b054bc",
   "metadata": {},
   "outputs": [
    {
     "name": "stdout",
     "output_type": "stream",
     "text": [
      "Pressure =  [ 1.44642857  0.44642857 -0.17857143 -0.30357143  0.07142857 -0.80357143\n",
      " -0.67857143]\n"
     ]
    }
   ],
   "source": [
    "L_inv = scipy_linalg.pinv(L)\n",
    "pressure = L_inv @ boundary_flows\n",
    "print(\"Pressure = \", pressure)"
   ]
  },
  {
   "cell_type": "markdown",
   "id": "6abb2249",
   "metadata": {},
   "source": [
    "### Scipy regularized solution"
   ]
  },
  {
   "cell_type": "code",
   "execution_count": 11,
   "id": "37cad8eb",
   "metadata": {},
   "outputs": [
    {
     "name": "stdout",
     "output_type": "stream",
     "text": [
      "Pressure =  [ 1.44336077  0.44336077 -0.18163923 -0.30663923  0.06836077 -0.80663923\n",
      " -0.68163923]\n",
      "Difference is constant:   [0.0030678 0.0030678 0.0030678 0.0030678 0.0030678 0.0030678 0.0030678]\n"
     ]
    }
   ],
   "source": [
    "L_reg = L + 1e-14 * np.eye(7)\n",
    "press = scipy_linalg.solve(L_reg, boundary_flows)\n",
    "print(\"Pressure = \", press)\n",
    "print(\"Difference is constant:  \", pressure - press)"
   ]
  },
  {
   "cell_type": "markdown",
   "id": "ef33adcf",
   "metadata": {},
   "source": [
    "### Scipy-Sparse regularized solution"
   ]
  },
  {
   "cell_type": "code",
   "execution_count": 12,
   "id": "8d5062a0",
   "metadata": {},
   "outputs": [
    {
     "name": "stdout",
     "output_type": "stream",
     "text": [
      "Pressure using scipy sparse solver:  [ 1.44698142  0.44698142 -0.17801858 -0.30301858  0.07198142 -0.80301858\n",
      " -0.67801858]\n",
      "The difference between the two pressures is a constant vector: \n",
      "  [-0.00055285 -0.00055285 -0.00055285 -0.00055285 -0.00055285 -0.00055285\n",
      " -0.00055285]\n"
     ]
    }
   ],
   "source": [
    "L_sparse_reg = csr_matrix(L_reg)\n",
    "press_sparse = sparse_linalg.spsolve(L_sparse_reg, boundary_flows)\n",
    "print(\"Pressure using scipy sparse solver: \", press_sparse)\n",
    "print(\"The difference between the two pressures is a constant vector: \\n \", pressure - press_sparse)"
   ]
  },
  {
   "cell_type": "markdown",
   "id": "c9dbcead",
   "metadata": {},
   "source": [
    "## PETSc vector $Q_b$"
   ]
  },
  {
   "cell_type": "code",
   "execution_count": 13,
   "id": "05c3217e",
   "metadata": {},
   "outputs": [
    {
     "name": "stdout",
     "output_type": "stream",
     "text": [
      "Numpy array:  [ 1.   0.   0.   0.   0.  -0.5 -0.5]\n"
     ]
    }
   ],
   "source": [
    "print(\"Numpy array: \", boundary_flows)"
   ]
  },
  {
   "cell_type": "code",
   "execution_count": 14,
   "id": "c20e8f10",
   "metadata": {},
   "outputs": [
    {
     "name": "stdout",
     "output_type": "stream",
     "text": [
      "PETSc vector:  [ 1.   0.   0.   0.   0.  -0.5 -0.5]\n"
     ]
    }
   ],
   "source": [
    "b = PETSc.Vec().createWithArray(boundary_flows)\n",
    "print(\"PETSc vector: \", b.getArray())"
   ]
  },
  {
   "cell_type": "markdown",
   "id": "c4e27e2c",
   "metadata": {},
   "source": [
    "Alternatively use: "
   ]
  },
  {
   "cell_type": "code",
   "execution_count": 15,
   "id": "b9572578",
   "metadata": {},
   "outputs": [],
   "source": [
    "n = len(boundary_flows)\n",
    "\n",
    "b = PETSc.Vec()\n",
    "b.createSeq(n)  # For MPI use b.create(MPI_COMM) and b.setSizes(n)\n",
    "b.setArray(boundary_flows)\n",
    "b.setFromOptions()"
   ]
  },
  {
   "cell_type": "code",
   "execution_count": 16,
   "id": "3c30e4b9",
   "metadata": {},
   "outputs": [
    {
     "name": "stdout",
     "output_type": "stream",
     "text": [
      "PETSc vector:  [ 1.   0.   0.   0.   0.  -0.5 -0.5]\n"
     ]
    }
   ],
   "source": [
    "print(\"PETSc vector: \", b.getArray())"
   ]
  },
  {
   "cell_type": "markdown",
   "id": "24f25ef7",
   "metadata": {},
   "source": [
    "### PETSc Matrix L\n",
    "\n",
    "We first create a sparse matrix in scipy. And then we create a sparse matrix with PETSc."
   ]
  },
  {
   "cell_type": "code",
   "execution_count": 17,
   "id": "0af38b74",
   "metadata": {},
   "outputs": [],
   "source": [
    "L_csr = csr_matrix(L)\n",
    "A = PETSc.Mat().createAIJ(size=L_csr.shape, csr=(L_csr.indptr, L_csr.indices, L_csr.data))"
   ]
  },
  {
   "cell_type": "code",
   "execution_count": 18,
   "id": "3ad453cb",
   "metadata": {
    "scrolled": true
   },
   "outputs": [
    {
     "data": {
      "image/png": "[encoded data removed]",
      "text/latex": [
       "$\\displaystyle \\left[\\begin{matrix}1.0 & -1.0 & 0 & 0 & 0 & 0 & 0\\\\-1.0 & 3.0 & -1.0 & 0 & -1.0 & 0 & 0\\\\0 & -1.0 & 3.0 & -1.0 & 0 & 0 & -1.0\\\\0 & 0 & -1.0 & 3.0 & -1.0 & -1.0 & 0\\\\0 & -1.0 & 0 & -1.0 & 2.0 & 0 & 0\\\\0 & 0 & 0 & -1.0 & 0 & 1.0 & 0\\\\0 & 0 & -1.0 & 0 & 0 & 0 & 1.0\\end{matrix}\\right]$"
      ],
      "text/plain": [
       "⎡1.0   -1.0   0     0     0     0     0  ⎤\n",
       "⎢                                        ⎥\n",
       "⎢-1.0  3.0   -1.0   0    -1.0   0     0  ⎥\n",
       "⎢                                        ⎥\n",
       "⎢ 0    -1.0  3.0   -1.0   0     0    -1.0⎥\n",
       "⎢                                        ⎥\n",
       "⎢ 0     0    -1.0  3.0   -1.0  -1.0   0  ⎥\n",
       "⎢                                        ⎥\n",
       "⎢ 0    -1.0   0    -1.0  2.0    0     0  ⎥\n",
       "⎢                                        ⎥\n",
       "⎢ 0     0     0    -1.0   0    1.0    0  ⎥\n",
       "⎢                                        ⎥\n",
       "⎣ 0     0    -1.0   0     0     0    1.0 ⎦"
      ]
     },
     "metadata": {},
     "output_type": "display_data"
    }
   ],
   "source": [
    "indptr, indices, data = A.getValuesCSR()\n",
    "original_L = csr_matrix((data, indices, indptr), shape=(n, n)).toarray()\n",
    "pprint(original_L)"
   ]
  },
  {
   "cell_type": "markdown",
   "id": "0ba10010",
   "metadata": {},
   "source": [
    "Alternatively create directly from numpy matrix: "
   ]
  },
  {
   "cell_type": "code",
   "execution_count": 19,
   "id": "87c94705",
   "metadata": {},
   "outputs": [],
   "source": [
    "A = PETSc.Mat().createAIJ([n, n])  # AIJ represents sparse matrix\n",
    "A.setValues(range(n), range(n), L)\n",
    "A.setUp()\n",
    "A.assemble()  # to build the data structure"
   ]
  },
  {
   "cell_type": "code",
   "execution_count": 20,
   "id": "5c6e002b",
   "metadata": {},
   "outputs": [
    {
     "data": {
      "image/png": "[encoded data removed]",
      "text/latex": [
       "$\\displaystyle \\left[\\begin{matrix}1.0 & -1.0 & 0 & 0 & 0 & 0 & 0\\\\-1.0 & 3.0 & -1.0 & 0 & -1.0 & 0 & 0\\\\0 & -1.0 & 3.0 & -1.0 & 0 & 0 & -1.0\\\\0 & 0 & -1.0 & 3.0 & -1.0 & -1.0 & 0\\\\0 & -1.0 & 0 & -1.0 & 2.0 & 0 & 0\\\\0 & 0 & 0 & -1.0 & 0 & 1.0 & 0\\\\0 & 0 & -1.0 & 0 & 0 & 0 & 1.0\\end{matrix}\\right]$"
      ],
      "text/plain": [
       "⎡1.0   -1.0   0     0     0     0     0  ⎤\n",
       "⎢                                        ⎥\n",
       "⎢-1.0  3.0   -1.0   0    -1.0   0     0  ⎥\n",
       "⎢                                        ⎥\n",
       "⎢ 0    -1.0  3.0   -1.0   0     0    -1.0⎥\n",
       "⎢                                        ⎥\n",
       "⎢ 0     0    -1.0  3.0   -1.0  -1.0   0  ⎥\n",
       "⎢                                        ⎥\n",
       "⎢ 0    -1.0   0    -1.0  2.0    0     0  ⎥\n",
       "⎢                                        ⎥\n",
       "⎢ 0     0     0    -1.0   0    1.0    0  ⎥\n",
       "⎢                                        ⎥\n",
       "⎣ 0     0    -1.0   0     0     0    1.0 ⎦"
      ]
     },
     "metadata": {},
     "output_type": "display_data"
    }
   ],
   "source": [
    "pprint(A.getValues(range(n), range(n)))"
   ]
  },
  {
   "cell_type": "markdown",
   "id": "e2c99d70",
   "metadata": {},
   "source": [
    "CreateAIJ also accepts an argument for using with MPI:\n",
    "```python\n",
    "COMM = PETSc.COMM_WORLD\n",
    "J = PETSc.Mat().createAIJ(..., comm=COMM)\n",
    "```\n",
    "\n",
    "When using MPI use:"
   ]
  },
  {
   "cell_type": "code",
   "execution_count": 21,
   "id": "f5e8b02c",
   "metadata": {},
   "outputs": [],
   "source": [
    "# A = PETSc.Mat()\n",
    "# A.create(PETSc.COMM_WORLD)\n",
    "# A.setSizes([N, M])\n",
    "# A.setType('aij')\n",
    "# A.setUp()"
   ]
  },
  {
   "cell_type": "markdown",
   "id": "bd4649f8",
   "metadata": {},
   "source": [
    "A few useful properties: "
   ]
  },
  {
   "cell_type": "code",
   "execution_count": 22,
   "id": "49342518",
   "metadata": {},
   "outputs": [
    {
     "name": "stdout",
     "output_type": "stream",
     "text": [
      "Global size  (7, 7)\n",
      "Local size  (7, 7)\n"
     ]
    }
   ],
   "source": [
    "print(\"Global size \", A.size)\n",
    "print(\"Local size \", A.local_size)"
   ]
  },
  {
   "cell_type": "code",
   "execution_count": 23,
   "id": "42446e5d",
   "metadata": {},
   "outputs": [
    {
     "data": {
      "text/plain": [
       "True"
      ]
     },
     "execution_count": 23,
     "metadata": {},
     "output_type": "execute_result"
    }
   ],
   "source": [
    "A.isSymmetric()"
   ]
  },
  {
   "cell_type": "code",
   "execution_count": 24,
   "id": "67dadad9",
   "metadata": {},
   "outputs": [
    {
     "data": {
      "text/plain": [
       "array([1., 3., 3., 3., 2., 1., 1.])"
      ]
     },
     "execution_count": 24,
     "metadata": {},
     "output_type": "execute_result"
    }
   ],
   "source": [
    "diagonals = A.getDiagonal().array\n",
    "diagonals"
   ]
  },
  {
   "cell_type": "markdown",
   "id": "2efe57da",
   "metadata": {},
   "source": [
    "### Solving the linear system Ax=b with PETSc"
   ]
  },
  {
   "cell_type": "code",
   "execution_count": 25,
   "id": "f959dd19",
   "metadata": {},
   "outputs": [
    {
     "name": "stdout",
     "output_type": "stream",
     "text": [
      "x:  [0. 0. 0. 0. 0. 0. 0.]\n",
      "x:  [1. 1. 1. 1. 1. 1. 1.]\n"
     ]
    }
   ],
   "source": [
    "x = PETSc.Vec().createSeq(7)\n",
    "print(\"x: \", x.getArray())\n",
    "x.array[:] = 1  # Assign a value\n",
    "print(\"x: \", x.getArray())"
   ]
  },
  {
   "cell_type": "code",
   "execution_count": 26,
   "id": "e1d12459",
   "metadata": {},
   "outputs": [
    {
     "name": "stdout",
     "output_type": "stream",
     "text": [
      "Solving with default solver:  gmres\n"
     ]
    }
   ],
   "source": [
    "ksp = PETSc.KSP().create()  # Krilov space object\n",
    "ksp.setOperators(A)\n",
    "\n",
    "ksp.setFromOptions()\n",
    "print(\"Solving with default solver: \", ksp.getType())"
   ]
  },
  {
   "cell_type": "code",
   "execution_count": 27,
   "id": "c87ba3f4",
   "metadata": {},
   "outputs": [
    {
     "name": "stdout",
     "output_type": "stream",
     "text": [
      "Solution vector x:  [ 1.57096538  0.57096538 -0.05403462 -0.17903462  0.19596538 -0.67903462\n",
      " -0.55403462]\n",
      "Difference is constant:  [-0.12453681 -0.12453681 -0.12453681 -0.12453681 -0.12453681 -0.12453681\n",
      " -0.12453681]\n"
     ]
    }
   ],
   "source": [
    "ksp.solve(b, x)\n",
    "print(\"Solution vector x: \", x.getArray())\n",
    "print(\"Difference is constant: \", pressure - x.getArray())"
   ]
  },
  {
   "cell_type": "code",
   "execution_count": 28,
   "id": "f7dbdad6",
   "metadata": {},
   "outputs": [
    {
     "data": {
      "text/plain": [
       "<petsc4py.PETSc.KSP at 0x1419d0810>"
      ]
     },
     "execution_count": 28,
     "metadata": {},
     "output_type": "execute_result"
    }
   ],
   "source": [
    "ksp.destroy()"
   ]
  },
  {
   "cell_type": "markdown",
   "id": "b02de407",
   "metadata": {},
   "source": [
    "### Full options:"
   ]
  },
  {
   "cell_type": "code",
   "execution_count": 29,
   "id": "be0b1217",
   "metadata": {},
   "outputs": [],
   "source": [
    "opts = PETSc.Options()\n",
    "\n",
    "# solver\n",
    "opts[\"ksp_type\"] = \"cg\"  #  or \"gmres\"\n",
    "# opts[\"ksp_gmres_restart\"] = 100\n",
    "\n",
    "# preconditioner\n",
    "opts[\"pc_type\"] = \"gamg\"\n",
    "opts[\"pc_factor_shift_type\"] = \"NONZERO\"\n",
    "opts[\"pc_factor_shift_amount\"] = PETSc.DECIDE\n",
    "\n",
    "# progress\n",
    "opts[\"ksp_monitor\"] = None\n",
    "# opts[\"monitor_true_residual\"] = None\n",
    "# opts[\"ksp_monitor_singular_value\"] = None\n",
    "# opts.delValue(\"ksp_monitor_singular_value\")\n",
    "\n",
    "ksp = PETSc.KSP().create()  # PETSc.COMM_WORLD as argument\n",
    "ksp.setOperators(A)\n",
    "ksp.rtol = 1e-12\n",
    "ksp.atol = 1e-2\n",
    "ksp.max_it = 5e2\n",
    "\n",
    "ksp.setNormType(-1)  # https://petsc.org/main/manualpages/KSP/KSPNormType/\n",
    "\n",
    "ksp.setConvergenceHistory()\n",
    "\n",
    "# In alternative:\n",
    "# ksp.setType(ksp_type)         # solver.  Use 'preonly' to use a direct method set in the preconditioner.\n",
    "# ksp.getPC().setType('none')   # to ignore preconditioning\n",
    "# ksp.setTolerances(atol=, rtol=, maxits=)\n",
    "ksp.setFromOptions()"
   ]
  },
  {
   "cell_type": "code",
   "execution_count": 30,
   "id": "0305310b",
   "metadata": {},
   "outputs": [
    {
     "name": "stdout",
     "output_type": "stream",
     "text": [
      "  0 KSP Residual norm 2.712629736011e+00 \n",
      "  1 KSP Residual norm 1.821503808426e-02 \n",
      "  2 KSP Residual norm 2.261092099578e-16 \n",
      "Solution vector x:  [ 2.1875  1.1875  0.5625  0.4375  0.8125 -0.0625  0.0625]\n",
      "Difference is constant:  [-0.74107143 -0.74107143 -0.74107143 -0.74107143 -0.74107143 -0.74107143\n",
      " -0.74107143]\n"
     ]
    }
   ],
   "source": [
    "x = PETSc.Vec().createSeq(7)\n",
    "ksp.solve(b, x)\n",
    "print(\"Solution vector x: \", x.getArray())\n",
    "print(\"Difference is constant: \", pressure - x.getArray())"
   ]
  },
  {
   "cell_type": "code",
   "execution_count": 31,
   "id": "9e147856",
   "metadata": {},
   "outputs": [
    {
     "name": "stdout",
     "output_type": "stream",
     "text": [
      "Residuals: \n",
      " [ 0.00000000e+00  2.22044605e-16  1.11022302e-16  1.11022302e-16\n",
      " -2.22044605e-16 -2.22044605e-16 -2.22044605e-16]\n",
      "The residual norm is: 4.710277376051325e-16\n",
      "The relative residual norm is: 3.8459253727671276e-16\n",
      "-> The KSP preconditioned residual norm is: 2.2610920995780914e-16\n"
     ]
    }
   ],
   "source": [
    "residual = A * x - b  # PETSc operations\n",
    "print(\"Residuals: \\n\", residual.getArray())\n",
    "print(f\"The residual norm is: {residual.norm()}\")  #  l2 Euclideian norm\n",
    "print(f\"The relative residual norm is: {residual.norm() / b.norm()}\")\n",
    "\n",
    "PETSc.Sys.Print(f\"-> The KSP preconditioned residual norm is: {ksp.getResidualNorm()}\")"
   ]
  },
  {
   "cell_type": "code",
   "execution_count": 32,
   "id": "0afc5aa1",
   "metadata": {},
   "outputs": [
    {
     "data": {
      "text/plain": [
       "[<matplotlib.lines.Line2D at 0x1403d7e10>]"
      ]
     },
     "execution_count": 32,
     "metadata": {},
     "output_type": "execute_result"
    },
    {
     "data": {
      "image/png": "[encoded data removed]",
      "text/plain": [
       "<Figure size 500x300 with 1 Axes>"
      ]
     },
     "metadata": {},
     "output_type": "display_data"
    }
   ],
   "source": [
    "residuals = ksp.getConvergenceHistory()\n",
    "plt.semilogy(residuals, marker=\"*\")"
   ]
  },
  {
   "cell_type": "markdown",
   "id": "3bf92f4e-6f18-4480-b786-5754c633a35d",
   "metadata": {},
   "source": [
    "## Solving the system, but faster:\n",
    "\n",
    "- A direct method (e.g. LU decomposition) is the best approach when working with a small matrix. But we need to use the regularized version, otherwise a LU method fails with a singular matrix.\n",
    "- For bigger matrices, when parallization is needed, it is mandatory to use an iterative solver.\n",
    "- It turns out that GAMG is the best preconditioner in this case.\n",
    "- The best solver is LGMRES\n",
    "- We should also inform PETSc that the matrix is singular, by providing the kernel. In this way, the solution is searched in an optimized way."
   ]
  },
  {
   "cell_type": "markdown",
   "id": "0b76c860-3084-42c5-b577-288a51d263fb",
   "metadata": {},
   "source": [
    "### LU decomposition with PETSc "
   ]
  },
  {
   "cell_type": "code",
   "execution_count": 33,
   "id": "f586ae68-547f-4468-a8f4-7c44eaa11004",
   "metadata": {},
   "outputs": [],
   "source": [
    "# Regularized matrix\n",
    "A_r = PETSc.Mat().createAIJ([n, n])\n",
    "A_r.setValues(range(n), range(n), L_reg)\n",
    "A_r.setUp()\n",
    "A_r.assemble()"
   ]
  },
  {
   "cell_type": "code",
   "execution_count": 34,
   "id": "90d5a24e",
   "metadata": {},
   "outputs": [
    {
     "name": "stdout",
     "output_type": "stream",
     "text": [
      "  0 KSP Residual norm 1.224744871392e+00 \n",
      "  1 KSP Residual norm 1.551583845780e-16 \n",
      "Solution vector x:  [ 1.44579876  0.44579876 -0.17920124 -0.30420124  0.07079876 -0.80420124\n",
      " -0.67920124]\n",
      "Difference is constant:  [0.00062982 0.00062982 0.00062982 0.00062982 0.00062982 0.00062982\n",
      " 0.00062982]\n"
     ]
    }
   ],
   "source": [
    "ksp = PETSc.KSP().create()  # Krilov space object\n",
    "ksp.setOperators(A_r)\n",
    "ksp.setFromOptions()\n",
    "\n",
    "ksp.setType(\"preonly\")\n",
    "# ksp.setGMRESRestart(100)\n",
    "ksp.getPC().setType(\"lu\")\n",
    "ksp.setTolerances(atol=1e-4, rtol=1e-12, max_it=500)\n",
    "\n",
    "x = PETSc.Vec().createSeq(7)\n",
    "ksp.solve(b, x)\n",
    "print(\"Solution vector x: \", x.getArray())\n",
    "print(\"Difference is constant: \", pressure - x.getArray())"
   ]
  },
  {
   "cell_type": "markdown",
   "id": "801421e4-a5f4-4143-ba6e-7906891ece3b",
   "metadata": {},
   "source": [
    "### LGMRES and kernel info\n",
    "\n",
    "With the iterative solver there is no need to use the regularized matrix."
   ]
  },
  {
   "cell_type": "code",
   "execution_count": 35,
   "id": "14df65ef",
   "metadata": {},
   "outputs": [],
   "source": [
    "# create the nullspace of the laplacian\n",
    "null_vec = PETSc.Vec().createSeq(7)\n",
    "null_vec.array[:] = 1\n",
    "\n",
    "null_space = PETSc.NullSpace().create(null_vec)\n",
    "A.setNullSpace(null_space)"
   ]
  },
  {
   "cell_type": "markdown",
   "id": "420e9a9a-ea7b-4673-9cba-3fb43ae59e5b",
   "metadata": {},
   "source": [
    "Let's check that `null_vec` belongs to the kernel of A:"
   ]
  },
  {
   "cell_type": "code",
   "execution_count": 36,
   "id": "ae412cb7",
   "metadata": {},
   "outputs": [
    {
     "data": {
      "text/plain": [
       "array([0., 0., 0., 0., 0., 0., 0.])"
      ]
     },
     "execution_count": 36,
     "metadata": {},
     "output_type": "execute_result"
    }
   ],
   "source": [
    "imag = A * null_vec\n",
    "imag.getArray()"
   ]
  },
  {
   "cell_type": "code",
   "execution_count": 37,
   "id": "deb39886",
   "metadata": {},
   "outputs": [
    {
     "name": "stdout",
     "output_type": "stream",
     "text": [
      "  0 KSP Residual norm 1.875192900723e+00 \n",
      "  1 KSP Residual norm 1.818982079082e-02 \n",
      "  2 KSP Residual norm 1.775135636435e-16 \n",
      "Solution vector x:  [ 1.44642857  0.44642857 -0.17857143 -0.30357143  0.07142857 -0.80357143\n",
      " -0.67857143]\n",
      "Difference is constant:  [2.22044605e-16 8.32667268e-16 1.36002321e-15 9.99200722e-16\n",
      " 9.02056208e-16 6.66133815e-16 1.33226763e-15]\n"
     ]
    }
   ],
   "source": [
    "ksp = PETSc.KSP().create()  # Krilov space object\n",
    "ksp.setOperators(A)\n",
    "ksp.setFromOptions()\n",
    "\n",
    "ksp.setType(\"lgmres\")\n",
    "ksp.setGMRESRestart(10)\n",
    "ksp.getPC().setType(\"gamg\")\n",
    "ksp.setTolerances(atol=1e-4, rtol=1e-12, max_it=500)\n",
    "\n",
    "x = PETSc.Vec().createSeq(7)\n",
    "ksp.solve(b, x)\n",
    "print(\"Solution vector x: \", x.getArray())\n",
    "print(\"Difference is constant: \", pressure - x.getArray())"
   ]
  },
  {
   "cell_type": "markdown",
   "id": "a2db0645",
   "metadata": {},
   "source": [
    "### Sources for using PETSc\n",
    "\n",
    "[1] https://snyk.io/advisor/python/petsc4py/functions/petsc4py.PETSc.Mat\n",
    "\n",
    "[2] https://petsc.org/release/manual/ksp/\n",
    "\n",
    "[3] https://tbetcke.github.io/hpc_lecture_notes/petsc_for_sparse_systems.html\n"
   ]
  }
 ],
 "metadata": {
  "kernelspec": {
   "display_name": "Python 3 (ipykernel)",
   "language": "python",
   "name": "python3"
  },
  "language_info": {
   "codemirror_mode": {
    "name": "ipython",
    "version": 3
   },
   "file_extension": ".py",
   "mimetype": "text/x-python",
   "name": "python",
   "nbconvert_exporter": "python",
   "pygments_lexer": "ipython3",
   "version": "3.11.4"
  }
 },
 "nbformat": 4,
 "nbformat_minor": 5
}
