{
 "cells": [
  {
   "cell_type": "markdown",
   "id": "0251cd68-0fea-410c-b63c-fee26cadc6bc",
   "metadata": {},
   "source": [
    "## Effective resistance and flows on a graph"
   ]
  },
  {
   "cell_type": "code",
   "execution_count": 1,
   "id": "814ba533",
   "metadata": {},
   "outputs": [],
   "source": [
    "import numpy as np\n",
    "import matplotlib.pyplot as plt\n",
    "from scipy import linalg\n",
    "from scipy.sparse import csgraph, csr_matrix\n",
    "import networkx as nx\n",
    "\n",
    "import warnings\n",
    "\n",
    "warnings.simplefilter(action=\"ignore\", category=FutureWarning)\n",
    "\n",
    "from IPython.display import display\n",
    "import sympy\n",
    "\n",
    "sympy.init_printing()\n",
    "\n",
    "\n",
    "def pprint(m):\n",
    "    display(sympy.Matrix(m))"
   ]
  },
  {
   "cell_type": "markdown",
   "id": "d9b088c8",
   "metadata": {},
   "source": [
    "Let's represent a graph with an adjacency matrix.  This is a **directed** graph, because we select the start node and the end node."
   ]
  },
  {
   "cell_type": "code",
   "execution_count": 2,
   "id": "360a8c2b",
   "metadata": {},
   "outputs": [
    {
     "name": "stdout",
     "output_type": "stream",
     "text": [
      "  (0, 1)\t1\n",
      "  (1, 2)\t1\n",
      "  (2, 3)\t1\n",
      "  (3, 0)\t1\n"
     ]
    }
   ],
   "source": [
    "adj_d = [\n",
    "    [0, 1, 0, 0],\n",
    "    [0, 0, 1, 0],\n",
    "    [0, 0, 0, 1],\n",
    "    [1, 0, 0, 0],\n",
    "]\n",
    "adj_d = csr_matrix(adj_d)\n",
    "print(adj_d)"
   ]
  },
  {
   "cell_type": "code",
   "execution_count": 3,
   "id": "3dc72093-7589-418e-9c3c-f13eaf1ee791",
   "metadata": {},
   "outputs": [],
   "source": [
    "nx_graph_d = nx.DiGraph(adj_d)"
   ]
  },
  {
   "cell_type": "code",
   "execution_count": 4,
   "id": "449fdbe9",
   "metadata": {},
   "outputs": [
    {
     "data": {
      "image/png": "[encoded data removed]",
      "text/plain": [
       "<Figure size 300x200 with 1 Axes>"
      ]
     },
     "metadata": {},
     "output_type": "display_data"
    }
   ],
   "source": [
    "positions = {0: [0, 1], 1: [1, 2], 2: [2, 1], 3: [1, 0]}\n",
    "plt.rcParams[\"figure.figsize\"] = [3, 2]\n",
    "nx.draw(nx_graph_d, with_labels=True, pos=positions)"
   ]
  },
  {
   "cell_type": "markdown",
   "id": "fd33a1e3",
   "metadata": {},
   "source": [
    "The **undirected** version of the graph is represented by"
   ]
  },
  {
   "cell_type": "code",
   "execution_count": 5,
   "id": "c494b108",
   "metadata": {},
   "outputs": [
    {
     "data": {
      "image/png": "[encoded data removed]",
      "text/latex": [
       "$\\displaystyle \\left[\\begin{matrix}0 & 1 & 0 & 1\\\\1 & 0 & 1 & 0\\\\0 & 1 & 0 & 1\\\\1 & 0 & 1 & 0\\end{matrix}\\right]$"
      ],
      "text/plain": [
       "⎡0  1  0  1⎤\n",
       "⎢          ⎥\n",
       "⎢1  0  1  0⎥\n",
       "⎢          ⎥\n",
       "⎢0  1  0  1⎥\n",
       "⎢          ⎥\n",
       "⎣1  0  1  0⎦"
      ]
     },
     "metadata": {},
     "output_type": "display_data"
    }
   ],
   "source": [
    "adj_u = adj_d + adj_d.T\n",
    "pprint(adj_u.toarray())"
   ]
  },
  {
   "cell_type": "markdown",
   "id": "425878e0",
   "metadata": {},
   "source": [
    "### Graph Laplacian\n",
    "\n",
    "$$ L = D - A $$\n",
    "\n",
    "- D is the diagonal matrix containing the degree of each node\n",
    "- A is the $n \\times n$ adjacency matrix, indicating if pair of vertices are adjacent or not."
   ]
  },
  {
   "cell_type": "code",
   "execution_count": 6,
   "id": "34558eb4",
   "metadata": {},
   "outputs": [
    {
     "data": {
      "image/png": "[encoded data removed]",
      "text/latex": [
       "$\\displaystyle \\left[\\begin{matrix}1 & -1 & 0 & 0\\\\0 & 1 & -1 & 0\\\\0 & 0 & 1 & -1\\\\-1 & 0 & 0 & 1\\end{matrix}\\right]$"
      ],
      "text/plain": [
       "⎡1   -1  0   0 ⎤\n",
       "⎢              ⎥\n",
       "⎢0   1   -1  0 ⎥\n",
       "⎢              ⎥\n",
       "⎢0   0   1   -1⎥\n",
       "⎢              ⎥\n",
       "⎣-1  0   0   1 ⎦"
      ]
     },
     "metadata": {},
     "output_type": "display_data"
    }
   ],
   "source": [
    "# directed\n",
    "L_d = csgraph.laplacian(adj_d)\n",
    "pprint(L_d.toarray())"
   ]
  },
  {
   "cell_type": "code",
   "execution_count": 7,
   "id": "973058a4",
   "metadata": {},
   "outputs": [
    {
     "data": {
      "image/png": "[encoded data removed]",
      "text/latex": [
       "$\\displaystyle \\left[\\begin{matrix}2 & -1 & 0 & -1\\\\-1 & 2 & -1 & 0\\\\0 & -1 & 2 & -1\\\\-1 & 0 & -1 & 2\\end{matrix}\\right]$"
      ],
      "text/plain": [
       "⎡2   -1  0   -1⎤\n",
       "⎢              ⎥\n",
       "⎢-1  2   -1  0 ⎥\n",
       "⎢              ⎥\n",
       "⎢0   -1  2   -1⎥\n",
       "⎢              ⎥\n",
       "⎣-1  0   -1  2 ⎦"
      ]
     },
     "metadata": {},
     "output_type": "display_data"
    }
   ],
   "source": [
    "# undirected\n",
    "L = csgraph.laplacian(adj_u)\n",
    "L = L.toarray()\n",
    "pprint(L)"
   ]
  },
  {
   "cell_type": "code",
   "execution_count": 8,
   "id": "fc7324c8",
   "metadata": {},
   "outputs": [],
   "source": [
    "nx_graph = nx.Graph(adj_d)"
   ]
  },
  {
   "cell_type": "markdown",
   "id": "1a2fc92e",
   "metadata": {},
   "source": [
    "## Effective Resistance\n",
    "\n",
    "Let's assume that each edge had resistance $R=1$.  \n",
    "\n",
    "The effective resistance between nodes $a$ and $b$ is computed using the **rules of compositions in series and parallel.**\n",
    "\n",
    "- $R_{0,0} = 0$.\n",
    "\n",
    "- $R_{0,1}$.  $$ R_{0,1} = \\frac{1}{1+\\frac{1}{3}} = \\frac{3}{4} = 0.75 $$ \n",
    "\n",
    "- $R_{0,2}$.  $$ R_{0,2} = \\frac{1}{\\frac{1}{2}+\\frac{1}{2}} = 1 $$\n",
    "\n",
    "- $R_{0,3} = R_{0,1}$, by symmetry.  \n"
   ]
  },
  {
   "cell_type": "markdown",
   "id": "f6365c29",
   "metadata": {},
   "source": [
    "### ER using networkx"
   ]
  },
  {
   "cell_type": "code",
   "execution_count": 9,
   "id": "a0017226",
   "metadata": {},
   "outputs": [],
   "source": [
    "def compute_ER_by_nx(G):\n",
    "    \"\"\"Based on np.linalg.pinv(L, hermitian=True)\"\"\"\n",
    "    N = G.number_of_nodes()\n",
    "    ER = np.zeros((N, N))\n",
    "    for i in range(N):\n",
    "        for j in range(i + 1, N):\n",
    "            ER[i, j] = nx.resistance_distance(G, i, j)\n",
    "    ER = ER + ER.T\n",
    "    return ER"
   ]
  },
  {
   "cell_type": "code",
   "execution_count": 10,
   "id": "5682c9fc",
   "metadata": {},
   "outputs": [
    {
     "data": {
      "image/png": "[encoded data removed]",
      "text/latex": [
       "$\\displaystyle \\left[\\begin{matrix}0 & 0.75 & 1.0 & 0.75\\\\0.75 & 0 & 0.75 & 1.0\\\\1.0 & 0.75 & 0 & 0.75\\\\0.75 & 1.0 & 0.75 & 0\\end{matrix}\\right]$"
      ],
      "text/plain": [
       "⎡ 0    0.75  1.0   0.75⎤\n",
       "⎢                      ⎥\n",
       "⎢0.75   0    0.75  1.0 ⎥\n",
       "⎢                      ⎥\n",
       "⎢1.0   0.75   0    0.75⎥\n",
       "⎢                      ⎥\n",
       "⎣0.75  1.0   0.75   0  ⎦"
      ]
     },
     "metadata": {},
     "output_type": "display_data"
    }
   ],
   "source": [
    "ER = compute_ER_by_nx(nx_graph)\n",
    "pprint(ER)"
   ]
  },
  {
   "cell_type": "markdown",
   "id": "3bf7bb73",
   "metadata": {},
   "source": [
    "### Effective resistance general formula\n",
    "\n",
    "The effective resistance $R_{a,b}$ between nodes $a$ and $b$ can be computed using the graph Laplacian.    \n",
    "\n",
    "If we associate each node $i$ with an element $e_i$ of the standard basis of the Euclidean vector space $\\mathbb{R}^n$, we can define the effective resistance between any nodes $i$, $j$ as follows:\n",
    "\n",
    "$$ R_{ij} = (e_i - e_j)^T \\, L^{\\dagger} \\, (e_i - e_j) $$\n",
    "\n",
    "where $L^{\\dagger}$ is the pseudo-inverse of the graph Laplacian.\n",
    "\n",
    "The effective resistance between $a$ and $b$ is:\n",
    "\n",
    "$$ \n",
    "\\begin{aligned}\n",
    "R_{ab} &= (e_a - e_b)^T \\, L^{\\dagger} \\, (e_a - e_b) \\\\\n",
    "       &= L^{\\dagger}[a,a] + L^{\\dagger}[b,b] - 2 L^{\\dagger}[a,b] \n",
    "\\end{aligned}       \n",
    "$$"
   ]
  },
  {
   "cell_type": "markdown",
   "id": "b2f36891",
   "metadata": {},
   "source": [
    "#### Rank and determinant"
   ]
  },
  {
   "cell_type": "code",
   "execution_count": 11,
   "id": "c0b8cf1d",
   "metadata": {},
   "outputs": [
    {
     "name": "stdout",
     "output_type": "stream",
     "text": [
      "Matrix dimensions:  (4, 4)\n",
      "Rank =  3\n",
      "Determinant =  0.0\n"
     ]
    }
   ],
   "source": [
    "rank = np.linalg.matrix_rank(L)\n",
    "determinant = np.linalg.det(L)\n",
    "print(\"Matrix dimensions: \", L.shape)\n",
    "print(\"Rank = \", rank)\n",
    "print(\"Determinant = \", determinant.round(10))"
   ]
  },
  {
   "cell_type": "markdown",
   "id": "cc94ddaf",
   "metadata": {},
   "source": [
    "### Pinv\n",
    "Let's do it by computing the Moore-Penrose pseudo-inverse with `numpy.linalg.pinv`.    \n",
    "(Calculate a generalized inverse of a matrix using its **singular-value decomposition**)"
   ]
  },
  {
   "cell_type": "code",
   "execution_count": 12,
   "id": "e1a82485",
   "metadata": {},
   "outputs": [
    {
     "data": {
      "image/png": "[encoded data removed]",
      "text/latex": [
       "$\\displaystyle \\left[\\begin{matrix}0.3125 & -0.0625 & -0.1875 & -0.0625\\\\-0.0625 & 0.3125 & -0.0625 & -0.1875\\\\-0.1875 & -0.0625 & 0.3125 & -0.0625\\\\-0.0625 & -0.1875 & -0.0625 & 0.3125\\end{matrix}\\right]$"
      ],
      "text/plain": [
       "⎡0.3125   -0.0625  -0.1875  -0.0625⎤\n",
       "⎢                                  ⎥\n",
       "⎢-0.0625  0.3125   -0.0625  -0.1875⎥\n",
       "⎢                                  ⎥\n",
       "⎢-0.1875  -0.0625  0.3125   -0.0625⎥\n",
       "⎢                                  ⎥\n",
       "⎣-0.0625  -0.1875  -0.0625  0.3125 ⎦"
      ]
     },
     "metadata": {},
     "output_type": "display_data"
    }
   ],
   "source": [
    "L_pinv = np.linalg.pinv(L, hermitian=True)\n",
    "pprint(L_pinv.round(5))"
   ]
  },
  {
   "cell_type": "code",
   "execution_count": 13,
   "id": "c8ebc994",
   "metadata": {},
   "outputs": [
    {
     "data": {
      "image/png": "[encoded data removed]",
      "text/latex": [
       "$\\displaystyle \\left[\\begin{matrix}1.0 & 0 & 0 & 0\\\\0 & 1.0 & 0 & 0\\\\0 & 0 & 1.0 & 0\\\\0 & 0 & 0 & 1.0\\end{matrix}\\right]$"
      ],
      "text/plain": [
       "⎡1.0   0    0    0 ⎤\n",
       "⎢                  ⎥\n",
       "⎢ 0   1.0   0    0 ⎥\n",
       "⎢                  ⎥\n",
       "⎢ 0    0   1.0   0 ⎥\n",
       "⎢                  ⎥\n",
       "⎣ 0    0    0   1.0⎦"
      ]
     },
     "metadata": {},
     "output_type": "display_data"
    }
   ],
   "source": [
    "e = np.eye(4)\n",
    "pprint(e)"
   ]
  },
  {
   "cell_type": "markdown",
   "id": "14395642",
   "metadata": {},
   "source": [
    "The effective resistance between $0$ and $1$ is:"
   ]
  },
  {
   "cell_type": "code",
   "execution_count": 14,
   "id": "8e18335b",
   "metadata": {},
   "outputs": [
    {
     "name": "stdout",
     "output_type": "stream",
     "text": [
      "R_01 =  0.7499999999999998\n"
     ]
    }
   ],
   "source": [
    "R_01 = (e[0] - e[1]) @ L_pinv @ (e[0] - e[1])\n",
    "print(\"R_01 = \", R_01)"
   ]
  },
  {
   "cell_type": "markdown",
   "id": "2d28d294",
   "metadata": {},
   "source": [
    "Or alternatively:"
   ]
  },
  {
   "cell_type": "code",
   "execution_count": 15,
   "id": "9286f89c",
   "metadata": {
    "scrolled": true
   },
   "outputs": [
    {
     "name": "stdout",
     "output_type": "stream",
     "text": [
      "R_01 =  0.7499999999999998\n"
     ]
    }
   ],
   "source": [
    "R_01 = L_pinv[0, 0] + L_pinv[1, 1] - 2 * L_pinv[0, 1]\n",
    "print(\"R_01 = \", R_01)"
   ]
  },
  {
   "cell_type": "markdown",
   "id": "86bdce46",
   "metadata": {},
   "source": [
    "### Regularization approach\n",
    "\n",
    "We add a small perturbation on the diagonal, and then invert L."
   ]
  },
  {
   "cell_type": "code",
   "execution_count": 16,
   "id": "485d2158",
   "metadata": {},
   "outputs": [
    {
     "data": {
      "image/png": "[encoded data removed]",
      "text/latex": [
       "$\\displaystyle \\left[\\begin{matrix}2.0000000001 & -1.0 & 0 & -1.0\\\\-1.0 & 2.0000000001 & -1.0 & 0\\\\0 & -1.0 & 2.0000000001 & -1.0\\\\-1.0 & 0 & -1.0 & 2.0000000001\\end{matrix}\\right]$"
      ],
      "text/plain": [
       "⎡2.0000000001      -1.0           0            -1.0    ⎤\n",
       "⎢                                                      ⎥\n",
       "⎢    -1.0      2.0000000001      -1.0           0      ⎥\n",
       "⎢                                                      ⎥\n",
       "⎢     0            -1.0      2.0000000001      -1.0    ⎥\n",
       "⎢                                                      ⎥\n",
       "⎣    -1.0           0            -1.0      2.0000000001⎦"
      ]
     },
     "metadata": {},
     "output_type": "display_data"
    }
   ],
   "source": [
    "L_regul = L + 1e-10 * np.eye(4)\n",
    "pprint(L_regul)"
   ]
  },
  {
   "cell_type": "code",
   "execution_count": 17,
   "id": "6f2f4380",
   "metadata": {},
   "outputs": [
    {
     "data": {
      "image/png": "[encoded data removed]",
      "text/latex": [
       "$\\displaystyle \\left[\\begin{matrix}2499997942.8 & 2499997942.4 & 2499997942.3 & 2499997942.4\\\\2499997942.4 & 2499997942.8 & 2499997942.4 & 2499997942.3\\\\2499997942.3 & 2499997942.4 & 2499997942.8 & 2499997942.4\\\\2499997942.4 & 2499997942.3 & 2499997942.4 & 2499997942.8\\end{matrix}\\right]$"
      ],
      "text/plain": [
       "⎡2499997942.8  2499997942.4  2499997942.3  2499997942.4⎤\n",
       "⎢                                                      ⎥\n",
       "⎢2499997942.4  2499997942.8  2499997942.4  2499997942.3⎥\n",
       "⎢                                                      ⎥\n",
       "⎢2499997942.3  2499997942.4  2499997942.8  2499997942.4⎥\n",
       "⎢                                                      ⎥\n",
       "⎣2499997942.4  2499997942.3  2499997942.4  2499997942.8⎦"
      ]
     },
     "metadata": {},
     "output_type": "display_data"
    }
   ],
   "source": [
    "inv_L_regul = np.linalg.inv(L_regul)\n",
    "pprint(inv_L_regul.round(1))"
   ]
  },
  {
   "cell_type": "markdown",
   "id": "170e578b",
   "metadata": {},
   "source": [
    "Equivalent to **solve a linear system**:\n",
    "\n",
    "$$ L \\, x = \\mathbb{1}  \\Longrightarrow x = L^{-1} $$\n",
    "\n",
    "Here the performance is the same, but with big sparse L it is better to solve the system."
   ]
  },
  {
   "cell_type": "code",
   "execution_count": 18,
   "id": "0c9a6024",
   "metadata": {
    "scrolled": true
   },
   "outputs": [
    {
     "data": {
      "image/png": "[encoded data removed]",
      "text/latex": [
       "$\\displaystyle \\left[\\begin{matrix}2499997942.8 & 2499997942.4 & 2499997942.3 & 2499997942.4\\\\2499997942.4 & 2499997942.8 & 2499997942.4 & 2499997942.3\\\\2499997942.3 & 2499997942.4 & 2499997942.8 & 2499997942.4\\\\2499997942.4 & 2499997942.3 & 2499997942.4 & 2499997942.8\\end{matrix}\\right]$"
      ],
      "text/plain": [
       "⎡2499997942.8  2499997942.4  2499997942.3  2499997942.4⎤\n",
       "⎢                                                      ⎥\n",
       "⎢2499997942.4  2499997942.8  2499997942.4  2499997942.3⎥\n",
       "⎢                                                      ⎥\n",
       "⎢2499997942.3  2499997942.4  2499997942.8  2499997942.4⎥\n",
       "⎢                                                      ⎥\n",
       "⎣2499997942.4  2499997942.3  2499997942.4  2499997942.8⎦"
      ]
     },
     "metadata": {},
     "output_type": "display_data"
    }
   ],
   "source": [
    "sys_inv_L = linalg.solve(L_regul, e)\n",
    "pprint(sys_inv_L.round(1))"
   ]
  },
  {
   "cell_type": "code",
   "execution_count": 19,
   "id": "5c0bb75f",
   "metadata": {},
   "outputs": [
    {
     "name": "stdout",
     "output_type": "stream",
     "text": [
      "The ER from 0 to 1 using regularization is:  0.75\n"
     ]
    }
   ],
   "source": [
    "v = e[0] - e[1]\n",
    "\n",
    "R_01_regul = v.T @ inv_L_regul @ v\n",
    "print(\"The ER from 0 to 1 using regularization is: \", R_01_regul.round(4))"
   ]
  },
  {
   "cell_type": "markdown",
   "id": "72fe5f71",
   "metadata": {},
   "source": [
    "### Solving a linear system\n",
    "\n",
    "We define the vector $v = e_a - e_b$.\n",
    "\n",
    "If $L$ is invertible, we can solve a linear system to compute the ER only between the nodes we are interested in.\n",
    "\n",
    "$$ \n",
    "\\begin{aligned}\n",
    "R_{ab} &= (e_a - e_b)^T \\, L^{\\dagger} \\, (e_a - e_b) \\\\\n",
    "       &= v^T \\, L^{\\dagger} \\, v   \\\\\n",
    "       &= v^T \\, x  \\quad \\quad \\text{with} \\quad x = L^{\\dagger} \\, v\n",
    "\\end{aligned}       \n",
    "$$\n",
    "\n",
    "Therefore we can solve the linear system \n",
    "\n",
    "$$ L x = v $$\n",
    "\n",
    "and then \n",
    "\n",
    "$$ R_{ab} \\; = \\; v^T x \\; = \\; x[a] - x[b] $$"
   ]
  },
  {
   "cell_type": "code",
   "execution_count": 20,
   "id": "ada95a96",
   "metadata": {},
   "outputs": [],
   "source": [
    "x = linalg.solve(L_regul, v)"
   ]
  },
  {
   "cell_type": "code",
   "execution_count": 21,
   "id": "738d0247",
   "metadata": {
    "scrolled": true
   },
   "outputs": [
    {
     "name": "stdout",
     "output_type": "stream",
     "text": [
      "Effective resistance 0-1 by linear system:  0.75\n"
     ]
    }
   ],
   "source": [
    "ER_01_sys = x[0] - x[1]\n",
    "print(\"Effective resistance 0-1 by linear system: \", ER_01_sys.round(2))"
   ]
  },
  {
   "cell_type": "markdown",
   "id": "66586a2e",
   "metadata": {},
   "source": [
    "### Calculation of pinv using eigenvalues and eigenvectors\n",
    "\n",
    "The spectral theorem for symmetric matrices says that every real, symmetric matrix is diagonalizable. [wiki](https://en.wikipedia.org/wiki/Spectral_theorem)"
   ]
  },
  {
   "cell_type": "code",
   "execution_count": 22,
   "id": "3a90355f",
   "metadata": {},
   "outputs": [],
   "source": [
    "eig_val, eig_vec = linalg.eigh(L)  # linalg.eigh is for real symmetric matrix.\n",
    "eig_val = np.real(eig_val)\n",
    "eig_vec = np.real(eig_vec)"
   ]
  },
  {
   "cell_type": "code",
   "execution_count": 23,
   "id": "c1913fa1",
   "metadata": {},
   "outputs": [
    {
     "name": "stdout",
     "output_type": "stream",
     "text": [
      "Eigenvectors: \n"
     ]
    },
    {
     "data": {
      "image/png": "[encoded data removed]",
      "text/latex": [
       "$\\displaystyle \\left[\\begin{matrix}-0.5 & 0 & 0.71 & 0.5\\\\-0.5 & -0.71 & 0 & -0.5\\\\-0.5 & 0 & -0.71 & 0.5\\\\-0.5 & 0.71 & 0 & -0.5\\end{matrix}\\right]$"
      ],
      "text/plain": [
       "⎡-0.5    0    0.71   0.5 ⎤\n",
       "⎢                        ⎥\n",
       "⎢-0.5  -0.71    0    -0.5⎥\n",
       "⎢                        ⎥\n",
       "⎢-0.5    0    -0.71  0.5 ⎥\n",
       "⎢                        ⎥\n",
       "⎣-0.5  0.71     0    -0.5⎦"
      ]
     },
     "metadata": {},
     "output_type": "display_data"
    },
    {
     "name": "stdout",
     "output_type": "stream",
     "text": [
      "Eigenvalues: \n"
     ]
    },
    {
     "data": {
      "image/png": "[encoded data removed]",
      "text/latex": [
       "$\\displaystyle \\left[\\begin{matrix}0\\\\2.0\\\\2.0\\\\4.0\\end{matrix}\\right]$"
      ],
      "text/plain": [
       "⎡ 0 ⎤\n",
       "⎢   ⎥\n",
       "⎢2.0⎥\n",
       "⎢   ⎥\n",
       "⎢2.0⎥\n",
       "⎢   ⎥\n",
       "⎣4.0⎦"
      ]
     },
     "metadata": {},
     "output_type": "display_data"
    }
   ],
   "source": [
    "print(\"Eigenvectors: \")\n",
    "pprint(eig_vec.round(2))  # each column is an eigenvector\n",
    "print(\"Eigenvalues: \")\n",
    "pprint(eig_val.round(2))"
   ]
  },
  {
   "cell_type": "markdown",
   "id": "15bd5553",
   "metadata": {},
   "source": [
    "If $\\lambda$ is an eigenvalue and $u$ an eigenvector, we have:\n",
    "\n",
    "$$ L u = \\lambda u $$\n",
    "\n",
    "If we call $U$ the matrix with an eigenvector on each column, and $\\Lambda$ the diagonal matrix of the eigenvalues, we have:\n",
    "\n",
    "$$ U^T \\, L \\, U \\, = \\, \\Lambda $$\n",
    "\n",
    "$L$ is symmetric (Hermitian) and the eigenvalues are real and non-negative. **The smallest eigenvalue is 0**.     \n",
    "The eigenvector corresponding to the zero eigenvalue is:\n",
    "\n",
    "$$ \\phi \\propto \\sum_{i=1}^N e_i $$\n",
    "\n",
    "Every row sum and column sum of $L$ is zero. In consequence $\\lambda = 0$ is the eigenvalue corresponding to $\\phi$.\n",
    "\n",
    "The matrix U is [ortogonal](https://en.wikipedia.org/wiki/Orthogonal_matrix) $U\\,U^{-1} = U\\, U^{T} = \\mathbb{1}$ or $U^{T} = U^{-1}$.\n",
    "\n",
    "We can take the inverse on both sides:\n",
    "\n",
    "$$ \\biggl( U^T \\, L \\, U \\biggr)^{-1} \\, = \\, \\Lambda^{-1} $$\n",
    "\n",
    "$$ U^{-1} \\, L^{-1} \\, U \\, = \\, \\Lambda^{-1} $$\n",
    "\n",
    "$$ L^{-1} \\, = \\, U\\, \\Lambda^{-1} \\, U^{T} $$\n",
    "\n",
    "If the eigenvalue is zero, we define its inverse as zero."
   ]
  },
  {
   "cell_type": "code",
   "execution_count": 24,
   "id": "4595d288",
   "metadata": {},
   "outputs": [
    {
     "data": {
      "image/png": "[encoded data removed]",
      "text/latex": [
       "$\\displaystyle \\left[\\begin{matrix}0.5\\\\0.5\\\\0.5\\\\0.5\\end{matrix}\\right]$"
      ],
      "text/plain": [
       "⎡0.5⎤\n",
       "⎢   ⎥\n",
       "⎢0.5⎥\n",
       "⎢   ⎥\n",
       "⎢0.5⎥\n",
       "⎢   ⎥\n",
       "⎣0.5⎦"
      ]
     },
     "metadata": {},
     "output_type": "display_data"
    }
   ],
   "source": [
    "phi = np.sum(e, axis=1)  # sum of the columns of e\n",
    "phi = phi / (np.sqrt(phi @ phi))  # normalization of phi\n",
    "pprint(phi)"
   ]
  },
  {
   "cell_type": "code",
   "execution_count": 25,
   "id": "881c894b",
   "metadata": {},
   "outputs": [
    {
     "name": "stdout",
     "output_type": "stream",
     "text": [
      "L u =  [ 1.4142  0.     -1.4142  0.    ]\n",
      "lam u =  [ 1.4142 -0.     -1.4142 -0.    ]\n"
     ]
    }
   ],
   "source": [
    "ind = 2\n",
    "print(\"L u = \", np.round(L @ eig_vec.T[ind], 4))\n",
    "print(\"lam u = \", np.round(eig_val[ind] * eig_vec.T[ind], 4))"
   ]
  },
  {
   "cell_type": "code",
   "execution_count": 26,
   "id": "dd7b9f16",
   "metadata": {},
   "outputs": [
    {
     "data": {
      "image/png": "[encoded data removed]",
      "text/latex": [
       "$\\displaystyle \\left[\\begin{matrix}0 & 0 & 0 & 0\\\\0 & 2.0 & 0 & 0\\\\0 & 0 & 2.0 & 0\\\\0 & 0 & 0 & 4.0\\end{matrix}\\right]$"
      ],
      "text/plain": [
       "⎡0   0    0    0 ⎤\n",
       "⎢                ⎥\n",
       "⎢0  2.0   0    0 ⎥\n",
       "⎢                ⎥\n",
       "⎢0   0   2.0   0 ⎥\n",
       "⎢                ⎥\n",
       "⎣0   0    0   4.0⎦"
      ]
     },
     "metadata": {},
     "output_type": "display_data"
    }
   ],
   "source": [
    "eig_val_mat = eig_vec.T @ L @ eig_vec\n",
    "pprint(eig_val_mat.round(2))"
   ]
  },
  {
   "cell_type": "code",
   "execution_count": 27,
   "id": "e67e9fcf-1ed7-467d-ae59-7f0a3c162ea8",
   "metadata": {},
   "outputs": [
    {
     "data": {
      "text/plain": [
       "array([2.66453526e-15, 2.00000000e+00, 2.00000000e+00, 4.00000000e+00])"
      ]
     },
     "execution_count": 27,
     "metadata": {},
     "output_type": "execute_result"
    }
   ],
   "source": [
    "eig_val"
   ]
  },
  {
   "cell_type": "code",
   "execution_count": 28,
   "id": "8e097e72",
   "metadata": {},
   "outputs": [
    {
     "data": {
      "text/plain": [
       "array([0.  , 0.5 , 0.5 , 0.25])"
      ]
     },
     "execution_count": 28,
     "metadata": {},
     "output_type": "execute_result"
    }
   ],
   "source": [
    "diag_inv = np.where(eig_val > 1e-14, 1 / eig_val, 0)\n",
    "diag_inv"
   ]
  },
  {
   "cell_type": "code",
   "execution_count": 29,
   "id": "bd104423",
   "metadata": {},
   "outputs": [
    {
     "data": {
      "image/png": "[encoded data removed]",
      "text/latex": [
       "$\\displaystyle \\left[\\begin{matrix}0 & 0 & 0 & 0\\\\0 & 0.5 & 0 & 0\\\\0 & 0 & 0.5 & 0\\\\0 & 0 & 0 & 0.25\\end{matrix}\\right]$"
      ],
      "text/plain": [
       "⎡0   0    0    0  ⎤\n",
       "⎢                 ⎥\n",
       "⎢0  0.5   0    0  ⎥\n",
       "⎢                 ⎥\n",
       "⎢0   0   0.5   0  ⎥\n",
       "⎢                 ⎥\n",
       "⎣0   0    0   0.25⎦"
      ]
     },
     "metadata": {},
     "output_type": "display_data"
    }
   ],
   "source": [
    "D_inv = np.diag(diag_inv)\n",
    "pprint(D_inv)"
   ]
  },
  {
   "cell_type": "code",
   "execution_count": 30,
   "id": "7562a00f",
   "metadata": {},
   "outputs": [
    {
     "data": {
      "image/png": "[encoded data removed]",
      "text/latex": [
       "$\\displaystyle \\left[\\begin{matrix}0.3125 & -0.0625 & -0.1875 & -0.0625\\\\-0.0625 & 0.3125 & -0.0625 & -0.1875\\\\-0.1875 & -0.0625 & 0.3125 & -0.0625\\\\-0.0625 & -0.1875 & -0.0625 & 0.3125\\end{matrix}\\right]$"
      ],
      "text/plain": [
       "⎡0.3125   -0.0625  -0.1875  -0.0625⎤\n",
       "⎢                                  ⎥\n",
       "⎢-0.0625  0.3125   -0.0625  -0.1875⎥\n",
       "⎢                                  ⎥\n",
       "⎢-0.1875  -0.0625  0.3125   -0.0625⎥\n",
       "⎢                                  ⎥\n",
       "⎣-0.0625  -0.1875  -0.0625  0.3125 ⎦"
      ]
     },
     "metadata": {},
     "output_type": "display_data"
    }
   ],
   "source": [
    "L_inv_eig = eig_vec @ D_inv @ eig_vec.T\n",
    "pprint(L_inv_eig.round(4))"
   ]
  },
  {
   "cell_type": "code",
   "execution_count": 31,
   "id": "e2cd7db9-0de1-425a-8323-fa9268cdef28",
   "metadata": {},
   "outputs": [
    {
     "name": "stdout",
     "output_type": "stream",
     "text": [
      "R_01 =  0.7499999999999993\n"
     ]
    }
   ],
   "source": [
    "v = e[0] - e[1]\n",
    "R_01 = v @ L_inv_eig @ v\n",
    "print(\"R_01 = \", R_01)"
   ]
  },
  {
   "cell_type": "markdown",
   "id": "2089e8d1",
   "metadata": {},
   "source": [
    "## Let's create another graph"
   ]
  },
  {
   "cell_type": "code",
   "execution_count": 32,
   "id": "660366a2",
   "metadata": {},
   "outputs": [],
   "source": [
    "gr = {\"start_node\": [0, 1, 2, 3, 4, 3, 2], \"end_node\": [1, 2, 3, 4, 1, 5, 6]}\n",
    "positions = {0: [0, 0], 1: [1, 0], 2: [2, 0], 3: [2, 1], 4: [1, 1], 5: [3, 1], 6: [3, 0]}\n",
    "nx_graph = nx.Graph()"
   ]
  },
  {
   "cell_type": "code",
   "execution_count": 33,
   "id": "2f2e12ff",
   "metadata": {},
   "outputs": [],
   "source": [
    "for i in zip(gr[\"start_node\"], gr[\"end_node\"]):\n",
    "    nx_graph.add_edge(*i)"
   ]
  },
  {
   "cell_type": "code",
   "execution_count": 34,
   "id": "2229b317",
   "metadata": {},
   "outputs": [
    {
     "data": {
      "image/png": "[encoded data removed]",
      "text/plain": [
       "<Figure size 400x200 with 1 Axes>"
      ]
     },
     "metadata": {},
     "output_type": "display_data"
    }
   ],
   "source": [
    "plt.rcParams[\"figure.figsize\"] = [4, 2]\n",
    "nx.draw(nx_graph, with_labels=True, pos=positions)"
   ]
  },
  {
   "cell_type": "code",
   "execution_count": 35,
   "id": "c34506ca",
   "metadata": {},
   "outputs": [
    {
     "data": {
      "image/png": "[encoded data removed]",
      "text/latex": [
       "$\\displaystyle \\left[\\begin{matrix}0 & 1 & 0 & 0 & 0 & 0 & 0\\\\1 & 0 & 1 & 0 & 1 & 0 & 0\\\\0 & 1 & 0 & 1 & 0 & 0 & 1\\\\0 & 0 & 1 & 0 & 1 & 1 & 0\\\\0 & 1 & 0 & 1 & 0 & 0 & 0\\\\0 & 0 & 0 & 1 & 0 & 0 & 0\\\\0 & 0 & 1 & 0 & 0 & 0 & 0\\end{matrix}\\right]$"
      ],
      "text/plain": [
       "⎡0  1  0  0  0  0  0⎤\n",
       "⎢                   ⎥\n",
       "⎢1  0  1  0  1  0  0⎥\n",
       "⎢                   ⎥\n",
       "⎢0  1  0  1  0  0  1⎥\n",
       "⎢                   ⎥\n",
       "⎢0  0  1  0  1  1  0⎥\n",
       "⎢                   ⎥\n",
       "⎢0  1  0  1  0  0  0⎥\n",
       "⎢                   ⎥\n",
       "⎢0  0  0  1  0  0  0⎥\n",
       "⎢                   ⎥\n",
       "⎣0  0  1  0  0  0  0⎦"
      ]
     },
     "metadata": {},
     "output_type": "display_data"
    }
   ],
   "source": [
    "ADJ = nx.adjacency_matrix(nx_graph).toarray()\n",
    "pprint(ADJ)"
   ]
  },
  {
   "cell_type": "code",
   "execution_count": 36,
   "id": "30c7fbfb",
   "metadata": {},
   "outputs": [
    {
     "data": {
      "image/png": "[encoded data removed]",
      "text/latex": [
       "$\\displaystyle \\left[\\begin{matrix}1 & -1 & 0 & 0 & 0 & 0 & 0\\\\-1 & 3 & -1 & 0 & -1 & 0 & 0\\\\0 & -1 & 3 & -1 & 0 & 0 & -1\\\\0 & 0 & -1 & 3 & -1 & -1 & 0\\\\0 & -1 & 0 & -1 & 2 & 0 & 0\\\\0 & 0 & 0 & -1 & 0 & 1 & 0\\\\0 & 0 & -1 & 0 & 0 & 0 & 1\\end{matrix}\\right]$"
      ],
      "text/plain": [
       "⎡1   -1  0   0   0   0   0 ⎤\n",
       "⎢                          ⎥\n",
       "⎢-1  3   -1  0   -1  0   0 ⎥\n",
       "⎢                          ⎥\n",
       "⎢0   -1  3   -1  0   0   -1⎥\n",
       "⎢                          ⎥\n",
       "⎢0   0   -1  3   -1  -1  0 ⎥\n",
       "⎢                          ⎥\n",
       "⎢0   -1  0   -1  2   0   0 ⎥\n",
       "⎢                          ⎥\n",
       "⎢0   0   0   -1  0   1   0 ⎥\n",
       "⎢                          ⎥\n",
       "⎣0   0   -1  0   0   0   1 ⎦"
      ]
     },
     "metadata": {},
     "output_type": "display_data"
    }
   ],
   "source": [
    "L = nx.laplacian_matrix(nx_graph.to_undirected()).toarray()\n",
    "pprint(L)"
   ]
  },
  {
   "cell_type": "markdown",
   "id": "9052a7dd",
   "metadata": {},
   "source": [
    "### The Incidence matrix\n",
    "\n",
    "Let us introduce the $n \\times m$ **oriented** incidence matrix $B$ (with $n$ nodes and $m$ edges) defined as $B_{i,k} = 1$ and $B_{j,k} = −1$, with $k$ representing the index of the oriented edge connecting nodes $i$ to node $j$."
   ]
  },
  {
   "cell_type": "code",
   "execution_count": 37,
   "id": "c26923de",
   "metadata": {},
   "outputs": [
    {
     "name": "stdout",
     "output_type": "stream",
     "text": [
      "The incidence matrix has shape  (7, 7)\n"
     ]
    },
    {
     "data": {
      "image/png": "[encoded data removed]",
      "text/latex": [
       "$\\displaystyle \\left[\\begin{matrix}1 & 0 & 0 & 0 & 0 & 0 & 0\\\\-1 & 1 & 1 & 0 & 0 & 0 & 0\\\\0 & -1 & 0 & 1 & 1 & 0 & 0\\\\0 & 0 & 0 & -1 & 0 & 1 & 1\\\\0 & 0 & -1 & 0 & 0 & -1 & 0\\\\0 & 0 & 0 & 0 & 0 & 0 & -1\\\\0 & 0 & 0 & 0 & -1 & 0 & 0\\end{matrix}\\right]$"
      ],
      "text/plain": [
       "⎡1   0   0   0   0   0   0 ⎤\n",
       "⎢                          ⎥\n",
       "⎢-1  1   1   0   0   0   0 ⎥\n",
       "⎢                          ⎥\n",
       "⎢0   -1  0   1   1   0   0 ⎥\n",
       "⎢                          ⎥\n",
       "⎢0   0   0   -1  0   1   1 ⎥\n",
       "⎢                          ⎥\n",
       "⎢0   0   -1  0   0   -1  0 ⎥\n",
       "⎢                          ⎥\n",
       "⎢0   0   0   0   0   0   -1⎥\n",
       "⎢                          ⎥\n",
       "⎣0   0   0   0   -1  0   0 ⎦"
      ]
     },
     "metadata": {},
     "output_type": "display_data"
    }
   ],
   "source": [
    "B = -nx.incidence_matrix(nx_graph, oriented=True).toarray().astype(int)\n",
    "print(\"The incidence matrix has shape \", B.shape)\n",
    "pprint(B)"
   ]
  },
  {
   "cell_type": "code",
   "execution_count": 38,
   "id": "86fbd264",
   "metadata": {},
   "outputs": [
    {
     "name": "stdout",
     "output_type": "stream",
     "text": [
      "Nodes  [0, 1, 2, 3, 4, 5, 6]\n",
      "Edges  [(0, 1), (1, 2), (1, 4), (2, 3), (2, 6), (3, 4), (3, 5)]\n"
     ]
    }
   ],
   "source": [
    "print(\"Nodes \", nx_graph.nodes)\n",
    "print(\"Edges \", nx_graph.edges)"
   ]
  },
  {
   "cell_type": "markdown",
   "id": "2bd91b40",
   "metadata": {},
   "source": [
    "The Laplacian can be compute also as \n",
    "\n",
    "$$ L = B B^T $$"
   ]
  },
  {
   "cell_type": "code",
   "execution_count": 39,
   "id": "2f3c71a6",
   "metadata": {},
   "outputs": [
    {
     "data": {
      "image/png": "[encoded data removed]",
      "text/latex": [
       "$\\displaystyle \\left[\\begin{matrix}1 & -1 & 0 & 0 & 0 & 0 & 0\\\\-1 & 3 & -1 & 0 & -1 & 0 & 0\\\\0 & -1 & 3 & -1 & 0 & 0 & -1\\\\0 & 0 & -1 & 3 & -1 & -1 & 0\\\\0 & -1 & 0 & -1 & 2 & 0 & 0\\\\0 & 0 & 0 & -1 & 0 & 1 & 0\\\\0 & 0 & -1 & 0 & 0 & 0 & 1\\end{matrix}\\right]$"
      ],
      "text/plain": [
       "⎡1   -1  0   0   0   0   0 ⎤\n",
       "⎢                          ⎥\n",
       "⎢-1  3   -1  0   -1  0   0 ⎥\n",
       "⎢                          ⎥\n",
       "⎢0   -1  3   -1  0   0   -1⎥\n",
       "⎢                          ⎥\n",
       "⎢0   0   -1  3   -1  -1  0 ⎥\n",
       "⎢                          ⎥\n",
       "⎢0   -1  0   -1  2   0   0 ⎥\n",
       "⎢                          ⎥\n",
       "⎢0   0   0   -1  0   1   0 ⎥\n",
       "⎢                          ⎥\n",
       "⎣0   0   -1  0   0   0   1 ⎦"
      ]
     },
     "metadata": {},
     "output_type": "display_data"
    }
   ],
   "source": [
    "pprint(B @ B.T)"
   ]
  },
  {
   "cell_type": "markdown",
   "id": "52ee12ab",
   "metadata": {},
   "source": [
    "### Computation of pressure and flow inside the the graph.\n",
    "\n",
    "\n",
    "Pressure $p$: \n",
    "\n",
    "$$ L \\, p = Q_b $$\n",
    "\n",
    "with $Q_b$ the flow on the boundary nodes.   \n",
    "The solution of the above equation is up to a constant. It means that for any $K\\in \\mathbb{R}$, $p+K$ is a solution.\n",
    "\n",
    "Flow $Q$ on edges:\n",
    "\n",
    "$$ Q = B^T p $$"
   ]
  },
  {
   "cell_type": "code",
   "execution_count": 40,
   "id": "79a64e0b",
   "metadata": {},
   "outputs": [
    {
     "name": "stdout",
     "output_type": "stream",
     "text": [
      "Boundary nodes have degree 1:  [0, 5, 6]\n",
      "Flow on the boundary nodes:  [ 1.   0.   0.   0.   0.  -0.5 -0.5]\n"
     ]
    }
   ],
   "source": [
    "boundary_flows = np.zeros(nx_graph.number_of_nodes())\n",
    "boundary_flows[0] = 1\n",
    "boundary_flows[5] = -0.5\n",
    "boundary_flows[6] = -0.5\n",
    "boundary_nodes = [elem[0] for elem in nx_graph.degree if elem[1] == 1]\n",
    "print(\"Boundary nodes have degree 1: \", boundary_nodes)\n",
    "print(\"Flow on the boundary nodes: \", boundary_flows)"
   ]
  },
  {
   "cell_type": "code",
   "execution_count": 41,
   "id": "d0fff34a",
   "metadata": {},
   "outputs": [
    {
     "name": "stdout",
     "output_type": "stream",
     "text": [
      "Total flow on boundaries:  0.0\n"
     ]
    }
   ],
   "source": [
    "print(\"Total flow on boundaries: \", boundary_flows[boundary_nodes].sum())"
   ]
  },
  {
   "cell_type": "markdown",
   "id": "6abb2249",
   "metadata": {},
   "source": [
    "#### Pressure on each node"
   ]
  },
  {
   "cell_type": "code",
   "execution_count": 42,
   "id": "37cad8eb",
   "metadata": {},
   "outputs": [
    {
     "name": "stdout",
     "output_type": "stream",
     "text": [
      "Pressure =  [ 1.44336077  0.44336077 -0.18163923 -0.30663923  0.06836077 -0.80663923\n",
      " -0.68163923]\n"
     ]
    }
   ],
   "source": [
    "L_reg = L + 1e-14 * np.eye(7)\n",
    "pressure = linalg.solve(L_reg, boundary_flows)\n",
    "print(\"Pressure = \", pressure)"
   ]
  },
  {
   "cell_type": "markdown",
   "id": "25665bc9",
   "metadata": {},
   "source": [
    "#### Flow on edges"
   ]
  },
  {
   "cell_type": "code",
   "execution_count": 43,
   "id": "9ee2de68",
   "metadata": {},
   "outputs": [
    {
     "name": "stdout",
     "output_type": "stream",
     "text": [
      "Flow on edges:  [ 1.     0.625  0.375  0.125  0.5   -0.375  0.5  ]\n",
      "Edges:     [(0, 1), (1, 2), (1, 4), (2, 3), (2, 6), (3, 4), (3, 5)]\n"
     ]
    }
   ],
   "source": [
    "Q = B.T @ (pressure)\n",
    "print(\"Flow on edges: \", Q)\n",
    "print(\"Edges:    \", nx_graph.edges)"
   ]
  },
  {
   "cell_type": "markdown",
   "id": "6fc2c694",
   "metadata": {},
   "source": [
    "#### Flow conservation\n",
    "\n",
    "Using $ Q = B^T p $ we can apply $B$ on the left:\n",
    "\n",
    "$$ B Q = B B^T p = L p = Q_b $$\n",
    "\n",
    "We can check the flow conservation on each node by multiplting B and Q. The resulting matrix is a $(n \\times m) \\times (m \\times 1) = (n \\times 1)$ matrix, that associate each node with the total flow on that node.     \n",
    "We can see that the flow on the internal nodes is zero!"
   ]
  },
  {
   "cell_type": "code",
   "execution_count": 44,
   "id": "8a940946",
   "metadata": {},
   "outputs": [
    {
     "name": "stdout",
     "output_type": "stream",
     "text": [
      "Flow on each node:  [ 1.  -0.   0.   0.  -0.  -0.5 -0.5]\n"
     ]
    }
   ],
   "source": [
    "conserv = B @ Q\n",
    "print(\"Flow on each node: \", conserv.round(2))"
   ]
  },
  {
   "cell_type": "code",
   "execution_count": 45,
   "id": "1a34e6bf",
   "metadata": {},
   "outputs": [
    {
     "data": {
      "image/png": "[encoded data removed]",
      "text/plain": [
       "<Figure size 600x300 with 1 Axes>"
      ]
     },
     "metadata": {},
     "output_type": "display_data"
    }
   ],
   "source": [
    "labels = dict(zip(nx_graph.edges, Q.round(3)))\n",
    "\n",
    "plt.rcParams[\"figure.figsize\"] = [6, 3]\n",
    "nx.draw(nx_graph, with_labels=True, pos=positions, node_size=800, node_color=\"lightblue\", alpha=0.9)\n",
    "\n",
    "nx.draw_networkx_edge_labels(nx_graph, pos=positions, edge_labels=labels, font_color=\"red\")\n",
    "plt.show()"
   ]
  },
  {
   "cell_type": "markdown",
   "id": "a2db0645",
   "metadata": {},
   "source": [
    "## References\n",
    "\n",
    "[1] Klein, D.J. Randic, M.  \"Resistance distance\" Journal of Mathematical Chemistry. (1993) 81-95"
   ]
  }
 ],
 "metadata": {
  "kernelspec": {
   "display_name": "Python 3 (ipykernel)",
   "language": "python",
   "name": "python3"
  },
  "language_info": {
   "codemirror_mode": {
    "name": "ipython",
    "version": 3
   },
   "file_extension": ".py",
   "mimetype": "text/x-python",
   "name": "python",
   "nbconvert_exporter": "python",
   "pygments_lexer": "ipython3",
   "version": "3.11.4"
  }
 },
 "nbformat": 4,
 "nbformat_minor": 5
}
